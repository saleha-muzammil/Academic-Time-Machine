{
 "cells": [
  {
   "cell_type": "code",
   "execution_count": 14,
   "id": "4794e19b",
   "metadata": {},
   "outputs": [
    {
     "name": "stdout",
     "output_type": "stream",
     "text": [
      "Requirement already satisfied: plotly in c:\\users\\ahmed\\documents\\anaconda\\lib\\site-packages (5.9.0)\n",
      "Requirement already satisfied: tenacity>=6.2.0 in c:\\users\\ahmed\\documents\\anaconda\\lib\\site-packages (from plotly) (8.2.2)\n"
     ]
    }
   ],
   "source": [
    "!pip install plotly"
   ]
  },
  {
   "cell_type": "code",
   "execution_count": 261,
   "id": "a4a22cc4",
   "metadata": {},
   "outputs": [],
   "source": [
    "import pandas as pd\n",
    "import matplotlib.pyplot as plt\n",
    "import numpy as np\n",
    "from scipy.stats import zscore\n",
    "from scipy import stats"
   ]
  },
  {
   "cell_type": "code",
   "execution_count": 262,
   "id": "b4924094",
   "metadata": {},
   "outputs": [],
   "source": [
    "def plotit(data):\n",
    "    plt.hist(data, bins=20, color='skyblue')\n",
    "    plt.ylabel('Frequency')\n",
    "    plt.show()\n",
    "    \n",
    "def getoutliers(df):\n",
    "    z_scores = zscore(df)\n",
    "    z_score_threshold = 3\n",
    "    outliers = df[(z_scores > z_score_threshold).any(axis=1)]\n",
    "    outliers = outliers.shape[0]\n",
    "    return outliers\n",
    "\n",
    "def normalize(data, z_threshold=3):\n",
    "    z_scores = np.abs(stats.zscore(data))\n",
    "    is_outlier = z_scores > z_threshold\n",
    "    median = np.median(data)\n",
    "    data[is_outlier] = median\n",
    "    return data\n",
    "\n",
    "def drop(data, z_threshold=3):\n",
    "    z_scores = np.abs(stats.zscore(data))\n",
    "    has_outliers = (z_scores > z_threshold).any(axis=1)\n",
    "    data = data[~has_outliers]\n",
    "    return data"
   ]
  },
  {
   "cell_type": "markdown",
   "id": "e96b16e9",
   "metadata": {},
   "source": [
    "## Analyzing Iris Data"
   ]
  },
  {
   "cell_type": "code",
   "execution_count": 263,
   "id": "a9caa2d8",
   "metadata": {},
   "outputs": [],
   "source": [
    "iris_data=pd.read_csv(\"iris.csv\")\n",
    "iris_data = iris_data[['SepalLengthCm', 'SepalWidthCm', 'PetalWidthCm']]"
   ]
  },
  {
   "cell_type": "markdown",
   "id": "50fe8837",
   "metadata": {},
   "source": [
    "### Calculating Statistics"
   ]
  },
  {
   "cell_type": "code",
   "execution_count": 264,
   "id": "b26f5869",
   "metadata": {},
   "outputs": [
    {
     "name": "stdout",
     "output_type": "stream",
     "text": [
      "<class 'pandas.core.frame.DataFrame'>\n",
      "RangeIndex: 150 entries, 0 to 149\n",
      "Data columns (total 3 columns):\n",
      " #   Column         Non-Null Count  Dtype  \n",
      "---  ------         --------------  -----  \n",
      " 0   SepalLengthCm  150 non-null    float64\n",
      " 1   SepalWidthCm   150 non-null    float64\n",
      " 2   PetalWidthCm   150 non-null    float64\n",
      "dtypes: float64(3)\n",
      "memory usage: 3.6 KB\n"
     ]
    }
   ],
   "source": [
    "iris_data.info()"
   ]
  },
  {
   "cell_type": "code",
   "execution_count": 265,
   "id": "0659953a",
   "metadata": {},
   "outputs": [
    {
     "data": {
      "text/html": [
       "<div>\n",
       "<style scoped>\n",
       "    .dataframe tbody tr th:only-of-type {\n",
       "        vertical-align: middle;\n",
       "    }\n",
       "\n",
       "    .dataframe tbody tr th {\n",
       "        vertical-align: top;\n",
       "    }\n",
       "\n",
       "    .dataframe thead th {\n",
       "        text-align: right;\n",
       "    }\n",
       "</style>\n",
       "<table border=\"1\" class=\"dataframe\">\n",
       "  <thead>\n",
       "    <tr style=\"text-align: right;\">\n",
       "      <th></th>\n",
       "      <th>count</th>\n",
       "      <th>mean</th>\n",
       "      <th>std</th>\n",
       "      <th>min</th>\n",
       "      <th>25%</th>\n",
       "      <th>50%</th>\n",
       "      <th>75%</th>\n",
       "      <th>max</th>\n",
       "    </tr>\n",
       "  </thead>\n",
       "  <tbody>\n",
       "    <tr>\n",
       "      <th>SepalLengthCm</th>\n",
       "      <td>150.0</td>\n",
       "      <td>5.843333</td>\n",
       "      <td>0.828066</td>\n",
       "      <td>4.3</td>\n",
       "      <td>5.1</td>\n",
       "      <td>5.8</td>\n",
       "      <td>6.4</td>\n",
       "      <td>7.9</td>\n",
       "    </tr>\n",
       "    <tr>\n",
       "      <th>SepalWidthCm</th>\n",
       "      <td>150.0</td>\n",
       "      <td>3.054000</td>\n",
       "      <td>0.433594</td>\n",
       "      <td>2.0</td>\n",
       "      <td>2.8</td>\n",
       "      <td>3.0</td>\n",
       "      <td>3.3</td>\n",
       "      <td>4.4</td>\n",
       "    </tr>\n",
       "    <tr>\n",
       "      <th>PetalWidthCm</th>\n",
       "      <td>150.0</td>\n",
       "      <td>1.198667</td>\n",
       "      <td>0.763161</td>\n",
       "      <td>0.1</td>\n",
       "      <td>0.3</td>\n",
       "      <td>1.3</td>\n",
       "      <td>1.8</td>\n",
       "      <td>2.5</td>\n",
       "    </tr>\n",
       "  </tbody>\n",
       "</table>\n",
       "</div>"
      ],
      "text/plain": [
       "               count      mean       std  min  25%  50%  75%  max\n",
       "SepalLengthCm  150.0  5.843333  0.828066  4.3  5.1  5.8  6.4  7.9\n",
       "SepalWidthCm   150.0  3.054000  0.433594  2.0  2.8  3.0  3.3  4.4\n",
       "PetalWidthCm   150.0  1.198667  0.763161  0.1  0.3  1.3  1.8  2.5"
      ]
     },
     "execution_count": 265,
     "metadata": {},
     "output_type": "execute_result"
    }
   ],
   "source": [
    "iris_data.describe().T"
   ]
  },
  {
   "cell_type": "code",
   "execution_count": 266,
   "id": "70d05716",
   "metadata": {},
   "outputs": [
    {
     "data": {
      "text/plain": [
       "SepalLengthCm    0.685694\n",
       "SepalWidthCm     0.188004\n",
       "PetalWidthCm     0.582414\n",
       "dtype: float64"
      ]
     },
     "execution_count": 266,
     "metadata": {},
     "output_type": "execute_result"
    }
   ],
   "source": [
    "iris_data.var().T"
   ]
  },
  {
   "cell_type": "code",
   "execution_count": 267,
   "id": "700bcfcf",
   "metadata": {},
   "outputs": [
    {
     "data": {
      "text/html": [
       "<div>\n",
       "<style scoped>\n",
       "    .dataframe tbody tr th:only-of-type {\n",
       "        vertical-align: middle;\n",
       "    }\n",
       "\n",
       "    .dataframe tbody tr th {\n",
       "        vertical-align: top;\n",
       "    }\n",
       "\n",
       "    .dataframe thead th {\n",
       "        text-align: right;\n",
       "    }\n",
       "</style>\n",
       "<table border=\"1\" class=\"dataframe\">\n",
       "  <thead>\n",
       "    <tr style=\"text-align: right;\">\n",
       "      <th></th>\n",
       "      <th>0</th>\n",
       "    </tr>\n",
       "  </thead>\n",
       "  <tbody>\n",
       "    <tr>\n",
       "      <th>SepalLengthCm</th>\n",
       "      <td>5.0</td>\n",
       "    </tr>\n",
       "    <tr>\n",
       "      <th>SepalWidthCm</th>\n",
       "      <td>3.0</td>\n",
       "    </tr>\n",
       "    <tr>\n",
       "      <th>PetalWidthCm</th>\n",
       "      <td>0.2</td>\n",
       "    </tr>\n",
       "  </tbody>\n",
       "</table>\n",
       "</div>"
      ],
      "text/plain": [
       "                 0\n",
       "SepalLengthCm  5.0\n",
       "SepalWidthCm   3.0\n",
       "PetalWidthCm   0.2"
      ]
     },
     "execution_count": 267,
     "metadata": {},
     "output_type": "execute_result"
    }
   ],
   "source": [
    "iris_data.mode().T"
   ]
  },
  {
   "cell_type": "code",
   "execution_count": 297,
   "id": "87025dc2",
   "metadata": {},
   "outputs": [
    {
     "name": "stdout",
     "output_type": "stream",
     "text": [
      "Outliers:  0\n",
      "Outliers:  0\n",
      "Outliers:  0\n"
     ]
    }
   ],
   "source": [
    "print(\"Outliers: \", getoutliers(iris_data[['SepalLengthCm']]))\n",
    "print(\"Outliers: \", getoutliers(iris_data[['SepalWidthCm']]))\n",
    "print(\"Outliers: \", getoutliers(iris_data[['PetalWidthCm']]))"
   ]
  },
  {
   "cell_type": "code",
   "execution_count": 269,
   "id": "cc94241a",
   "metadata": {},
   "outputs": [
    {
     "data": {
      "text/plain": [
       "SepalLengthCm    0\n",
       "SepalWidthCm     0\n",
       "PetalWidthCm     0\n",
       "dtype: int64"
      ]
     },
     "execution_count": 269,
     "metadata": {},
     "output_type": "execute_result"
    }
   ],
   "source": [
    "iris_data.isnull().sum()"
   ]
  },
  {
   "cell_type": "markdown",
   "id": "a9a08252",
   "metadata": {},
   "source": [
    "### Normalizing the Noisy Data"
   ]
  },
  {
   "cell_type": "code",
   "execution_count": 270,
   "id": "893cb5f6",
   "metadata": {},
   "outputs": [],
   "source": [
    "iris_data['SepalLengthCm']=normalize(iris_data['SepalLengthCm'])\n",
    "iris_data['SepalWidthCm']=normalize(iris_data['SepalWidthCm'])\n",
    "iris_data['PetalWidthCm']=normalize(iris_data['PetalWidthCm'])"
   ]
  },
  {
   "cell_type": "markdown",
   "id": "3f751f8e",
   "metadata": {},
   "source": [
    "### Plotting Variable of Intrest"
   ]
  },
  {
   "cell_type": "code",
   "execution_count": 271,
   "id": "027c66ca",
   "metadata": {},
   "outputs": [
    {
     "data": {
      "image/png": "[encoded data removed]",
      "text/plain": [
       "<Figure size 640x480 with 1 Axes>"
      ]
     },
     "metadata": {},
     "output_type": "display_data"
    }
   ],
   "source": [
    "plotit(iris_data['SepalLengthCm'])"
   ]
  },
  {
   "cell_type": "code",
   "execution_count": 272,
   "id": "4529c08e",
   "metadata": {},
   "outputs": [
    {
     "data": {
      "image/png": "[encoded data removed]",
      "text/plain": [
       "<Figure size 640x480 with 1 Axes>"
      ]
     },
     "metadata": {},
     "output_type": "display_data"
    }
   ],
   "source": [
    "plotit(iris_data['SepalWidthCm'])"
   ]
  },
  {
   "cell_type": "code",
   "execution_count": 273,
   "id": "123958cd",
   "metadata": {},
   "outputs": [
    {
     "data": {
      "image/png": "[encoded data removed]",
      "text/plain": [
       "<Figure size 640x480 with 1 Axes>"
      ]
     },
     "metadata": {},
     "output_type": "display_data"
    }
   ],
   "source": [
    "plotit(iris_data['PetalWidthCm'])"
   ]
  },
  {
   "cell_type": "markdown",
   "id": "057b6972",
   "metadata": {},
   "source": [
    "## Analyzing Titanic Data"
   ]
  },
  {
   "cell_type": "code",
   "execution_count": 274,
   "id": "50d88a78",
   "metadata": {},
   "outputs": [],
   "source": [
    "titanic_data=pd.read_csv(\"titanic.csv\")\n",
    "titanic_data=titanic_data[['Age', 'SibSp', 'Fare']]"
   ]
  },
  {
   "cell_type": "markdown",
   "id": "4f1321fb",
   "metadata": {},
   "source": [
    "### Calculating Statistics"
   ]
  },
  {
   "cell_type": "code",
   "execution_count": 275,
   "id": "d4316cff",
   "metadata": {},
   "outputs": [
    {
     "name": "stdout",
     "output_type": "stream",
     "text": [
      "<class 'pandas.core.frame.DataFrame'>\n",
      "RangeIndex: 891 entries, 0 to 890\n",
      "Data columns (total 3 columns):\n",
      " #   Column  Non-Null Count  Dtype  \n",
      "---  ------  --------------  -----  \n",
      " 0   Age     714 non-null    float64\n",
      " 1   SibSp   891 non-null    int64  \n",
      " 2   Fare    891 non-null    float64\n",
      "dtypes: float64(2), int64(1)\n",
      "memory usage: 21.0 KB\n"
     ]
    }
   ],
   "source": [
    "titanic_data.info()"
   ]
  },
  {
   "cell_type": "code",
   "execution_count": 276,
   "id": "7d46c195",
   "metadata": {},
   "outputs": [
    {
     "data": {
      "text/plain": [
       "Age      177\n",
       "SibSp      0\n",
       "Fare       0\n",
       "dtype: int64"
      ]
     },
     "execution_count": 276,
     "metadata": {},
     "output_type": "execute_result"
    }
   ],
   "source": [
    "titanic_data.isnull().sum()"
   ]
  },
  {
   "cell_type": "code",
   "execution_count": 277,
   "id": "07943c70",
   "metadata": {},
   "outputs": [
    {
     "data": {
      "text/html": [
       "<div>\n",
       "<style scoped>\n",
       "    .dataframe tbody tr th:only-of-type {\n",
       "        vertical-align: middle;\n",
       "    }\n",
       "\n",
       "    .dataframe tbody tr th {\n",
       "        vertical-align: top;\n",
       "    }\n",
       "\n",
       "    .dataframe thead th {\n",
       "        text-align: right;\n",
       "    }\n",
       "</style>\n",
       "<table border=\"1\" class=\"dataframe\">\n",
       "  <thead>\n",
       "    <tr style=\"text-align: right;\">\n",
       "      <th></th>\n",
       "      <th>count</th>\n",
       "      <th>mean</th>\n",
       "      <th>std</th>\n",
       "      <th>min</th>\n",
       "      <th>25%</th>\n",
       "      <th>50%</th>\n",
       "      <th>75%</th>\n",
       "      <th>max</th>\n",
       "    </tr>\n",
       "  </thead>\n",
       "  <tbody>\n",
       "    <tr>\n",
       "      <th>Age</th>\n",
       "      <td>714.0</td>\n",
       "      <td>29.699118</td>\n",
       "      <td>14.526497</td>\n",
       "      <td>0.42</td>\n",
       "      <td>20.1250</td>\n",
       "      <td>28.0000</td>\n",
       "      <td>38.0</td>\n",
       "      <td>80.0000</td>\n",
       "    </tr>\n",
       "    <tr>\n",
       "      <th>SibSp</th>\n",
       "      <td>891.0</td>\n",
       "      <td>0.523008</td>\n",
       "      <td>1.102743</td>\n",
       "      <td>0.00</td>\n",
       "      <td>0.0000</td>\n",
       "      <td>0.0000</td>\n",
       "      <td>1.0</td>\n",
       "      <td>8.0000</td>\n",
       "    </tr>\n",
       "    <tr>\n",
       "      <th>Fare</th>\n",
       "      <td>891.0</td>\n",
       "      <td>32.204208</td>\n",
       "      <td>49.693429</td>\n",
       "      <td>0.00</td>\n",
       "      <td>7.9104</td>\n",
       "      <td>14.4542</td>\n",
       "      <td>31.0</td>\n",
       "      <td>512.3292</td>\n",
       "    </tr>\n",
       "  </tbody>\n",
       "</table>\n",
       "</div>"
      ],
      "text/plain": [
       "       count       mean        std   min      25%      50%   75%       max\n",
       "Age    714.0  29.699118  14.526497  0.42  20.1250  28.0000  38.0   80.0000\n",
       "SibSp  891.0   0.523008   1.102743  0.00   0.0000   0.0000   1.0    8.0000\n",
       "Fare   891.0  32.204208  49.693429  0.00   7.9104  14.4542  31.0  512.3292"
      ]
     },
     "execution_count": 277,
     "metadata": {},
     "output_type": "execute_result"
    }
   ],
   "source": [
    "titanic_data.describe().T"
   ]
  },
  {
   "cell_type": "code",
   "execution_count": 278,
   "id": "4c36f88a",
   "metadata": {
    "scrolled": true
   },
   "outputs": [
    {
     "data": {
      "text/plain": [
       "Age       211.019125\n",
       "SibSp       1.216043\n",
       "Fare     2469.436846\n",
       "dtype: float64"
      ]
     },
     "execution_count": 278,
     "metadata": {},
     "output_type": "execute_result"
    }
   ],
   "source": [
    "titanic_data.var().T"
   ]
  },
  {
   "cell_type": "code",
   "execution_count": 279,
   "id": "6d082008",
   "metadata": {},
   "outputs": [
    {
     "data": {
      "text/html": [
       "<div>\n",
       "<style scoped>\n",
       "    .dataframe tbody tr th:only-of-type {\n",
       "        vertical-align: middle;\n",
       "    }\n",
       "\n",
       "    .dataframe tbody tr th {\n",
       "        vertical-align: top;\n",
       "    }\n",
       "\n",
       "    .dataframe thead th {\n",
       "        text-align: right;\n",
       "    }\n",
       "</style>\n",
       "<table border=\"1\" class=\"dataframe\">\n",
       "  <thead>\n",
       "    <tr style=\"text-align: right;\">\n",
       "      <th></th>\n",
       "      <th>0</th>\n",
       "    </tr>\n",
       "  </thead>\n",
       "  <tbody>\n",
       "    <tr>\n",
       "      <th>Age</th>\n",
       "      <td>24.00</td>\n",
       "    </tr>\n",
       "    <tr>\n",
       "      <th>SibSp</th>\n",
       "      <td>0.00</td>\n",
       "    </tr>\n",
       "    <tr>\n",
       "      <th>Fare</th>\n",
       "      <td>8.05</td>\n",
       "    </tr>\n",
       "  </tbody>\n",
       "</table>\n",
       "</div>"
      ],
      "text/plain": [
       "           0\n",
       "Age    24.00\n",
       "SibSp   0.00\n",
       "Fare    8.05"
      ]
     },
     "execution_count": 279,
     "metadata": {},
     "output_type": "execute_result"
    }
   ],
   "source": [
    "titanic_data.mode().T"
   ]
  },
  {
   "cell_type": "code",
   "execution_count": 337,
   "id": "4bd34f84",
   "metadata": {},
   "outputs": [
    {
     "name": "stdout",
     "output_type": "stream",
     "text": [
      "Outliers:  0\n",
      "Outliers:  0\n",
      "Outliers:  0\n"
     ]
    }
   ],
   "source": [
    "print(\"Outliers: \", getoutliers(titanic_data[['Age']]))\n",
    "print(\"Outliers: \", getoutliers(titanic_data[['SibSp']]))\n",
    "print(\"Outliers: \", getoutliers(titanic_data[['Fare']]))"
   ]
  },
  {
   "cell_type": "markdown",
   "id": "b5480ba6",
   "metadata": {},
   "source": [
    "### Normalizing the Data, filling the Nulls"
   ]
  },
  {
   "cell_type": "code",
   "execution_count": 311,
   "id": "fc8c7461",
   "metadata": {},
   "outputs": [],
   "source": [
    "titanic_data['Age'] = titanic_data.Age.fillna(titanic_data['Age'].median())\n",
    "titanic_data['SibSp'] = titanic_data.SibSp.fillna(titanic_data['SibSp'].median())\n",
    "titanic_data['Fare'] = titanic_data.Fare.fillna(titanic_data['Fare'].median())"
   ]
  },
  {
   "cell_type": "markdown",
   "id": "3dce4436",
   "metadata": {},
   "source": [
    "### Normalizing the Noisy Data"
   ]
  },
  {
   "cell_type": "code",
   "execution_count": 336,
   "id": "f7e9dd7b",
   "metadata": {
    "scrolled": false
   },
   "outputs": [
    {
     "name": "stderr",
     "output_type": "stream",
     "text": [
      "C:\\Users\\ahmed\\AppData\\Local\\Temp\\ipykernel_14808\\3252247006.py:17: SettingWithCopyWarning: \n",
      "A value is trying to be set on a copy of a slice from a DataFrame\n",
      "\n",
      "See the caveats in the documentation: https://pandas.pydata.org/pandas-docs/stable/user_guide/indexing.html#returning-a-view-versus-a-copy\n",
      "  data[is_outlier] = median\n"
     ]
    }
   ],
   "source": [
    "titanic_data['Age']=normalize(titanic_data['Age'])\n",
    "titanic_data['SibSp']=normalize(titanic_data['SibSp'])\n",
    "titanic_data['Fare']=normalize(titanic_data['Fare'])"
   ]
  },
  {
   "cell_type": "markdown",
   "id": "70f752d2",
   "metadata": {},
   "source": [
    "### Plotting Variable of Intrest"
   ]
  },
  {
   "cell_type": "code",
   "execution_count": 338,
   "id": "19d89520",
   "metadata": {},
   "outputs": [
    {
     "data": {
      "image/png": "[encoded data removed]",
      "text/plain": [
       "<Figure size 640x480 with 1 Axes>"
      ]
     },
     "metadata": {},
     "output_type": "display_data"
    }
   ],
   "source": [
    "plotit(titanic_data['Age'])"
   ]
  },
  {
   "cell_type": "code",
   "execution_count": 339,
   "id": "33e2b1f6",
   "metadata": {},
   "outputs": [
    {
     "data": {
      "image/png": "[encoded data removed]",
      "text/plain": [
       "<Figure size 640x480 with 1 Axes>"
      ]
     },
     "metadata": {},
     "output_type": "display_data"
    }
   ],
   "source": [
    "plotit(titanic_data['SibSp'])"
   ]
  },
  {
   "cell_type": "code",
   "execution_count": 340,
   "id": "2511076e",
   "metadata": {},
   "outputs": [
    {
     "data": {
      "image/png": "[encoded data removed]",
      "text/plain": [
       "<Figure size 640x480 with 1 Axes>"
      ]
     },
     "metadata": {},
     "output_type": "display_data"
    }
   ],
   "source": [
    "plotit(titanic_data['Fare'])"
   ]
  },
  {
   "cell_type": "markdown",
   "id": "3e6d40a4",
   "metadata": {},
   "source": [
    "## Analyzing Housing Data"
   ]
  },
  {
   "cell_type": "code",
   "execution_count": 286,
   "id": "a96f03ad",
   "metadata": {},
   "outputs": [],
   "source": [
    "housing_data=pd.read_csv(\"housing.csv\")\n",
    "housing_data=housing_data[['area', 'price','bedrooms']]"
   ]
  },
  {
   "cell_type": "markdown",
   "id": "dcd6acd1",
   "metadata": {},
   "source": [
    "### Calculating Statistics"
   ]
  },
  {
   "cell_type": "code",
   "execution_count": 351,
   "id": "97f9f87b",
   "metadata": {},
   "outputs": [
    {
     "name": "stdout",
     "output_type": "stream",
     "text": [
      "<class 'pandas.core.frame.DataFrame'>\n",
      "Int64Index: 515 entries, 12 to 544\n",
      "Data columns (total 3 columns):\n",
      " #   Column    Non-Null Count  Dtype\n",
      "---  ------    --------------  -----\n",
      " 0   area      515 non-null    int64\n",
      " 1   price     515 non-null    int64\n",
      " 2   bedrooms  515 non-null    int64\n",
      "dtypes: int64(3)\n",
      "memory usage: 16.1 KB\n"
     ]
    }
   ],
   "source": [
    "housing_data.info()"
   ]
  },
  {
   "cell_type": "code",
   "execution_count": 288,
   "id": "349e02c6",
   "metadata": {},
   "outputs": [
    {
     "data": {
      "text/html": [
       "<div>\n",
       "<style scoped>\n",
       "    .dataframe tbody tr th:only-of-type {\n",
       "        vertical-align: middle;\n",
       "    }\n",
       "\n",
       "    .dataframe tbody tr th {\n",
       "        vertical-align: top;\n",
       "    }\n",
       "\n",
       "    .dataframe thead th {\n",
       "        text-align: right;\n",
       "    }\n",
       "</style>\n",
       "<table border=\"1\" class=\"dataframe\">\n",
       "  <thead>\n",
       "    <tr style=\"text-align: right;\">\n",
       "      <th></th>\n",
       "      <th>count</th>\n",
       "      <th>mean</th>\n",
       "      <th>std</th>\n",
       "      <th>min</th>\n",
       "      <th>25%</th>\n",
       "      <th>50%</th>\n",
       "      <th>75%</th>\n",
       "      <th>max</th>\n",
       "    </tr>\n",
       "  </thead>\n",
       "  <tbody>\n",
       "    <tr>\n",
       "      <th>area</th>\n",
       "      <td>545.0</td>\n",
       "      <td>5.150541e+03</td>\n",
       "      <td>2.170141e+03</td>\n",
       "      <td>1650.0</td>\n",
       "      <td>3600.0</td>\n",
       "      <td>4600.0</td>\n",
       "      <td>6360.0</td>\n",
       "      <td>16200.0</td>\n",
       "    </tr>\n",
       "    <tr>\n",
       "      <th>price</th>\n",
       "      <td>545.0</td>\n",
       "      <td>4.766729e+06</td>\n",
       "      <td>1.870440e+06</td>\n",
       "      <td>1750000.0</td>\n",
       "      <td>3430000.0</td>\n",
       "      <td>4340000.0</td>\n",
       "      <td>5740000.0</td>\n",
       "      <td>13300000.0</td>\n",
       "    </tr>\n",
       "    <tr>\n",
       "      <th>bedrooms</th>\n",
       "      <td>545.0</td>\n",
       "      <td>2.965138e+00</td>\n",
       "      <td>7.380639e-01</td>\n",
       "      <td>1.0</td>\n",
       "      <td>2.0</td>\n",
       "      <td>3.0</td>\n",
       "      <td>3.0</td>\n",
       "      <td>6.0</td>\n",
       "    </tr>\n",
       "  </tbody>\n",
       "</table>\n",
       "</div>"
      ],
      "text/plain": [
       "          count          mean           std        min        25%        50%  \\\n",
       "area      545.0  5.150541e+03  2.170141e+03     1650.0     3600.0     4600.0   \n",
       "price     545.0  4.766729e+06  1.870440e+06  1750000.0  3430000.0  4340000.0   \n",
       "bedrooms  545.0  2.965138e+00  7.380639e-01        1.0        2.0        3.0   \n",
       "\n",
       "                75%         max  \n",
       "area         6360.0     16200.0  \n",
       "price     5740000.0  13300000.0  \n",
       "bedrooms        3.0         6.0  "
      ]
     },
     "execution_count": 288,
     "metadata": {},
     "output_type": "execute_result"
    }
   ],
   "source": [
    "housing_data.describe().T"
   ]
  },
  {
   "cell_type": "code",
   "execution_count": 289,
   "id": "53be73d4",
   "metadata": {},
   "outputs": [
    {
     "data": {
      "text/plain": [
       "area        4.709512e+06\n",
       "price       3.498544e+12\n",
       "bedrooms    5.447383e-01\n",
       "dtype: float64"
      ]
     },
     "execution_count": 289,
     "metadata": {},
     "output_type": "execute_result"
    }
   ],
   "source": [
    "housing_data.var().T"
   ]
  },
  {
   "cell_type": "code",
   "execution_count": 290,
   "id": "489ba107",
   "metadata": {},
   "outputs": [
    {
     "data": {
      "text/html": [
       "<div>\n",
       "<style scoped>\n",
       "    .dataframe tbody tr th:only-of-type {\n",
       "        vertical-align: middle;\n",
       "    }\n",
       "\n",
       "    .dataframe tbody tr th {\n",
       "        vertical-align: top;\n",
       "    }\n",
       "\n",
       "    .dataframe thead th {\n",
       "        text-align: right;\n",
       "    }\n",
       "</style>\n",
       "<table border=\"1\" class=\"dataframe\">\n",
       "  <thead>\n",
       "    <tr style=\"text-align: right;\">\n",
       "      <th></th>\n",
       "      <th>0</th>\n",
       "      <th>1</th>\n",
       "    </tr>\n",
       "  </thead>\n",
       "  <tbody>\n",
       "    <tr>\n",
       "      <th>area</th>\n",
       "      <td>6000.0</td>\n",
       "      <td>NaN</td>\n",
       "    </tr>\n",
       "    <tr>\n",
       "      <th>price</th>\n",
       "      <td>3500000.0</td>\n",
       "      <td>4200000.0</td>\n",
       "    </tr>\n",
       "    <tr>\n",
       "      <th>bedrooms</th>\n",
       "      <td>3.0</td>\n",
       "      <td>NaN</td>\n",
       "    </tr>\n",
       "  </tbody>\n",
       "</table>\n",
       "</div>"
      ],
      "text/plain": [
       "                  0          1\n",
       "area         6000.0        NaN\n",
       "price     3500000.0  4200000.0\n",
       "bedrooms        3.0        NaN"
      ]
     },
     "execution_count": 290,
     "metadata": {},
     "output_type": "execute_result"
    }
   ],
   "source": [
    "housing_data.mode().T"
   ]
  },
  {
   "cell_type": "code",
   "execution_count": 291,
   "id": "a5462e8f",
   "metadata": {},
   "outputs": [
    {
     "data": {
      "text/plain": [
       "area        0\n",
       "price       0\n",
       "bedrooms    0\n",
       "dtype: int64"
      ]
     },
     "execution_count": 291,
     "metadata": {},
     "output_type": "execute_result"
    }
   ],
   "source": [
    "housing_data.isnull().sum()"
   ]
  },
  {
   "cell_type": "code",
   "execution_count": 350,
   "id": "000091b0",
   "metadata": {},
   "outputs": [
    {
     "name": "stdout",
     "output_type": "stream",
     "text": [
      "Outliers:  0\n",
      "Outliers:  0\n",
      "Outliers:  0\n"
     ]
    }
   ],
   "source": [
    "print(\"Outliers: \", getoutliers(housing_data[['area']]))\n",
    "print(\"Outliers: \", getoutliers(housing_data[['price']]))\n",
    "print(\"Outliers: \", getoutliers(housing_data[['bedrooms']]))"
   ]
  },
  {
   "cell_type": "markdown",
   "id": "d571c125",
   "metadata": {},
   "source": [
    "### Normalizing the Noisy Data"
   ]
  },
  {
   "cell_type": "code",
   "execution_count": 349,
   "id": "68aab768",
   "metadata": {},
   "outputs": [],
   "source": [
    "housing_data = drop(housing_data)"
   ]
  },
  {
   "cell_type": "markdown",
   "id": "3587266f",
   "metadata": {},
   "source": [
    "### Plotting Variable of Intrest"
   ]
  },
  {
   "cell_type": "code",
   "execution_count": 344,
   "id": "5609ab1a",
   "metadata": {},
   "outputs": [
    {
     "data": {
      "image/png": "[encoded data removed]",
      "text/plain": [
       "<Figure size 640x480 with 1 Axes>"
      ]
     },
     "metadata": {},
     "output_type": "display_data"
    }
   ],
   "source": [
    "plotit(housing_data['area'])"
   ]
  },
  {
   "cell_type": "code",
   "execution_count": 295,
   "id": "9c865bf9",
   "metadata": {},
   "outputs": [
    {
     "data": {
      "image/png": "[encoded data removed]",
      "text/plain": [
       "<Figure size 640x480 with 1 Axes>"
      ]
     },
     "metadata": {},
     "output_type": "display_data"
    }
   ],
   "source": [
    "plotit(housing_data['price'])"
   ]
  },
  {
   "cell_type": "code",
   "execution_count": 296,
   "id": "df8b7fc6",
   "metadata": {},
   "outputs": [
    {
     "data": {
      "image/png": "[encoded data removed]",
      "text/plain": [
       "<Figure size 640x480 with 1 Axes>"
      ]
     },
     "metadata": {},
     "output_type": "display_data"
    }
   ],
   "source": [
    "plotit(housing_data['bedrooms'])"
   ]
  }
 ],
 "metadata": {
  "kernelspec": {
   "display_name": "Python 3",
   "language": "python",
   "name": "python3"
  },
  "language_info": {
   "codemirror_mode": {
    "name": "ipython",
    "version": 3
   },
   "file_extension": ".py",
   "mimetype": "text/x-python",
   "name": "python",
   "nbconvert_exporter": "python",
   "pygments_lexer": "ipython3",
   "version": "3.11.3"
  }
 },
 "nbformat": 4,
 "nbformat_minor": 5
}
